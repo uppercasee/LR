{
 "cells": [
  {
   "cell_type": "code",
   "execution_count": 14,
   "metadata": {},
   "outputs": [],
   "source": [
    "import tensorflow as tf\n",
    "import pandas as pd\n",
    "import numpy as np\n",
    "import matplotlib.pyplot as plt\n",
    "import os\n",
    "from tensorflow.keras.models import Sequential\n",
    "from tensorflow.keras.layers import Conv2D\n",
    "from tensorflow.keras.layers import MaxPool2D\n",
    "from tensorflow.keras.layers import Flatten\n",
    "from tensorflow.keras.layers import Dense\n",
    "from sklearn.model_selection import train_test_split\n",
    "from sklearn.preprocessing import LabelEncoder\n",
    "import cv2\n",
    "import time\n",
    "import urllib.request"
   ]
  },
  {
   "cell_type": "code",
   "execution_count": 15,
   "metadata": {},
   "outputs": [],
   "source": [
    "def read_url_pic(x):\n",
    "    image_url = x\n",
    "\n",
    "    with urllib.request.urlopen(image_url) as url:\n",
    "        s = url.read()\n",
    "\n",
    "    arr = np.asarray(bytearray(s), dtype=np.uint8)\n",
    "    image = cv2.imdecode(arr, -1)\n",
    "    return image\n",
    "\n",
    "def plot_url_pic(x):\n",
    "    image_url = x\n",
    "\n",
    "    with urllib.request.urlopen(image_url) as url:\n",
    "        s = url.read()\n",
    "\n",
    "    arr = np.asarray(bytearray(s), dtype=np.uint8)\n",
    "    image = cv2.imdecode(arr, -1)\n",
    "\n",
    "    plt.imshow(cv2.cvtColor(image, cv2.COLOR_BGR2RGB))\n",
    "    plt.show()\n",
    "\n",
    "def img_to_arr(x):\n",
    "    img = cv2.imread(x)\n",
    "    img = cv2.cvtColor(img, cv2.COLOR_BGR2GRAY)\n",
    "    img = cv2.resize(img,(64,64))\n",
    "    return img"
   ]
  },
  {
   "cell_type": "code",
   "execution_count": 16,
   "metadata": {},
   "outputs": [
    {
     "data": {
      "text/html": [
       "<div>\n",
       "<style scoped>\n",
       "    .dataframe tbody tr th:only-of-type {\n",
       "        vertical-align: middle;\n",
       "    }\n",
       "\n",
       "    .dataframe tbody tr th {\n",
       "        vertical-align: top;\n",
       "    }\n",
       "\n",
       "    .dataframe thead th {\n",
       "        text-align: right;\n",
       "    }\n",
       "</style>\n",
       "<table border=\"1\" class=\"dataframe\">\n",
       "  <thead>\n",
       "    <tr style=\"text-align: right;\">\n",
       "      <th></th>\n",
       "      <th>image</th>\n",
       "      <th>label</th>\n",
       "    </tr>\n",
       "  </thead>\n",
       "  <tbody>\n",
       "    <tr>\n",
       "      <th>0</th>\n",
       "      <td>Img/img001-001.png</td>\n",
       "      <td>0</td>\n",
       "    </tr>\n",
       "    <tr>\n",
       "      <th>1</th>\n",
       "      <td>Img/img001-002.png</td>\n",
       "      <td>0</td>\n",
       "    </tr>\n",
       "    <tr>\n",
       "      <th>2</th>\n",
       "      <td>Img/img001-003.png</td>\n",
       "      <td>0</td>\n",
       "    </tr>\n",
       "    <tr>\n",
       "      <th>3</th>\n",
       "      <td>Img/img001-004.png</td>\n",
       "      <td>0</td>\n",
       "    </tr>\n",
       "    <tr>\n",
       "      <th>4</th>\n",
       "      <td>Img/img001-005.png</td>\n",
       "      <td>0</td>\n",
       "    </tr>\n",
       "  </tbody>\n",
       "</table>\n",
       "</div>"
      ],
      "text/plain": [
       "                image label\n",
       "0  Img/img001-001.png     0\n",
       "1  Img/img001-002.png     0\n",
       "2  Img/img001-003.png     0\n",
       "3  Img/img001-004.png     0\n",
       "4  Img/img001-005.png     0"
      ]
     },
     "execution_count": 16,
     "metadata": {},
     "output_type": "execute_result"
    }
   ],
   "source": [
    "df = pd.read_csv(\"./data/english.csv\")\n",
    "df.head()"
   ]
  },
  {
   "cell_type": "code",
   "execution_count": 17,
   "metadata": {},
   "outputs": [
    {
     "data": {
      "text/html": [
       "<div>\n",
       "<style scoped>\n",
       "    .dataframe tbody tr th:only-of-type {\n",
       "        vertical-align: middle;\n",
       "    }\n",
       "\n",
       "    .dataframe tbody tr th {\n",
       "        vertical-align: top;\n",
       "    }\n",
       "\n",
       "    .dataframe thead th {\n",
       "        text-align: right;\n",
       "    }\n",
       "</style>\n",
       "<table border=\"1\" class=\"dataframe\">\n",
       "  <thead>\n",
       "    <tr style=\"text-align: right;\">\n",
       "      <th></th>\n",
       "      <th>image</th>\n",
       "      <th>label</th>\n",
       "    </tr>\n",
       "  </thead>\n",
       "  <tbody>\n",
       "    <tr>\n",
       "      <th>0</th>\n",
       "      <td>./data/Img/img001-001.png</td>\n",
       "      <td>0</td>\n",
       "    </tr>\n",
       "    <tr>\n",
       "      <th>1</th>\n",
       "      <td>./data/Img/img001-002.png</td>\n",
       "      <td>0</td>\n",
       "    </tr>\n",
       "    <tr>\n",
       "      <th>2</th>\n",
       "      <td>./data/Img/img001-003.png</td>\n",
       "      <td>0</td>\n",
       "    </tr>\n",
       "    <tr>\n",
       "      <th>3</th>\n",
       "      <td>./data/Img/img001-004.png</td>\n",
       "      <td>0</td>\n",
       "    </tr>\n",
       "    <tr>\n",
       "      <th>4</th>\n",
       "      <td>./data/Img/img001-005.png</td>\n",
       "      <td>0</td>\n",
       "    </tr>\n",
       "  </tbody>\n",
       "</table>\n",
       "</div>"
      ],
      "text/plain": [
       "                       image label\n",
       "0  ./data/Img/img001-001.png     0\n",
       "1  ./data/Img/img001-002.png     0\n",
       "2  ./data/Img/img001-003.png     0\n",
       "3  ./data/Img/img001-004.png     0\n",
       "4  ./data/Img/img001-005.png     0"
      ]
     },
     "execution_count": 17,
     "metadata": {},
     "output_type": "execute_result"
    }
   ],
   "source": [
    "df['image'] = \"./data/\" + df['image']\n",
    "df.head()"
   ]
  },
  {
   "cell_type": "code",
   "execution_count": 18,
   "metadata": {},
   "outputs": [
    {
     "name": "stdout",
     "output_type": "stream",
     "text": [
      "(64, 64)\n"
     ]
    },
    {
     "data": {
      "text/plain": [
       "<matplotlib.image.AxesImage at 0x7fe3229bdb10>"
      ]
     },
     "execution_count": 18,
     "metadata": {},
     "output_type": "execute_result"
    },
    {
     "data": {
      "image/png": "[encoded data removed]",
      "text/plain": [
       "<Figure size 640x480 with 1 Axes>"
      ]
     },
     "metadata": {},
     "output_type": "display_data"
    }
   ],
   "source": [
    "print(img_to_arr(df['image'][0]).shape)\n",
    "plt.imshow(img_to_arr(df['image'][0]))"
   ]
  },
  {
   "cell_type": "code",
   "execution_count": 19,
   "metadata": {},
   "outputs": [
    {
     "name": "stdout",
     "output_type": "stream",
     "text": [
      "with multiprocessing: 46.970526933670044\n"
     ]
    }
   ],
   "source": [
    "# start_time = time.time()\n",
    "# image_array = []\n",
    "# for i in df['image']:\n",
    "#     image = img_to_arr(i)  # Read the image using cv2.imread()\n",
    "#     if image is not None:\n",
    "#         image_array.append(image)\n",
    "# end_time = time.time()\n",
    "# print(\"without multiprocessing:\", end_time-start_time)\n",
    "\n",
    "start_time = time.time()\n",
    "import multiprocessing\n",
    "\n",
    "with multiprocessing.Pool(4) as p:\n",
    "    images = p.map(img_to_arr, df['image'])\n",
    "end_time = time.time()\n",
    "print(\"with multiprocessing:\", end_time-start_time)"
   ]
  },
  {
   "cell_type": "code",
   "execution_count": 20,
   "metadata": {},
   "outputs": [
    {
     "data": {
      "text/plain": [
       "(3410, 64, 64, 1)"
      ]
     },
     "execution_count": 20,
     "metadata": {},
     "output_type": "execute_result"
    }
   ],
   "source": [
    "x = np.array(images).reshape(3410, 64, 64,1)\n",
    "x.shape"
   ]
  },
  {
   "cell_type": "code",
   "execution_count": 21,
   "metadata": {},
   "outputs": [
    {
     "name": "stdout",
     "output_type": "stream",
     "text": [
      "2\n"
     ]
    },
    {
     "data": {
      "image/png": "[encoded data removed]",
      "text/plain": [
       "<Figure size 640x480 with 1 Axes>"
      ]
     },
     "metadata": {},
     "output_type": "display_data"
    }
   ],
   "source": [
    "img = x[119].reshape((64,64))\n",
    "plt.imshow(img,cmap='gray')\n",
    "print(df['label'].iloc[119])"
   ]
  },
  {
   "cell_type": "code",
   "execution_count": 22,
   "metadata": {},
   "outputs": [],
   "source": [
    "y = df['label']   \n",
    "le = LabelEncoder()\n",
    "y_label = le.fit_transform(y)"
   ]
  },
  {
   "cell_type": "code",
   "execution_count": 23,
   "metadata": {},
   "outputs": [],
   "source": [
    "train_images,test_images,train_labels,test_labels = train_test_split(x,y_label,test_size=0.2,random_state=42)\n",
    "train_images = train_images/255.0\n",
    "test_images = test_images/255.0"
   ]
  },
  {
   "cell_type": "code",
   "execution_count": 24,
   "metadata": {},
   "outputs": [
    {
     "name": "stderr",
     "output_type": "stream",
     "text": [
      "2023-08-03 14:20:10.195754: E tensorflow/compiler/xla/stream_executor/cuda/cuda_driver.cc:268] failed call to cuInit: CUDA_ERROR_NO_DEVICE: no CUDA-capable device is detected\n"
     ]
    },
    {
     "name": "stdout",
     "output_type": "stream",
     "text": [
      "Epoch 1/20\n",
      "86/86 [==============================] - 174s 2s/step - loss: 4.1073 - accuracy: 0.0301 - val_loss: 3.7444 - val_accuracy: 0.0777\n",
      "Epoch 2/20\n",
      "86/86 [==============================] - 172s 2s/step - loss: 3.2483 - accuracy: 0.1492 - val_loss: 2.8946 - val_accuracy: 0.1950\n",
      "Epoch 3/20\n",
      "86/86 [==============================] - 172s 2s/step - loss: 2.5419 - accuracy: 0.2951 - val_loss: 2.3077 - val_accuracy: 0.3255\n",
      "Epoch 4/20\n",
      "86/86 [==============================] - 165s 2s/step - loss: 1.8994 - accuracy: 0.4556 - val_loss: 1.8418 - val_accuracy: 0.4648\n",
      "Epoch 5/20\n",
      "86/86 [==============================] - 270s 3s/step - loss: 1.3873 - accuracy: 0.6008 - val_loss: 1.5687 - val_accuracy: 0.5235\n",
      "Epoch 6/20\n",
      "86/86 [==============================] - 246s 3s/step - loss: 1.0046 - accuracy: 0.7192 - val_loss: 1.2837 - val_accuracy: 0.6290\n",
      "Epoch 7/20\n",
      "86/86 [==============================] - 282s 3s/step - loss: 0.7301 - accuracy: 0.7962 - val_loss: 1.1676 - val_accuracy: 0.6540\n",
      "Epoch 8/20\n",
      "86/86 [==============================] - 269s 3s/step - loss: 0.5608 - accuracy: 0.8292 - val_loss: 1.0296 - val_accuracy: 0.6862\n",
      "Epoch 9/20\n",
      "86/86 [==============================] - 166s 2s/step - loss: 0.3920 - accuracy: 0.8882 - val_loss: 1.0136 - val_accuracy: 0.7038\n",
      "Epoch 10/20\n",
      "86/86 [==============================] - 327s 4s/step - loss: 0.2856 - accuracy: 0.9234 - val_loss: 0.9809 - val_accuracy: 0.7170\n",
      "Epoch 11/20\n",
      "86/86 [==============================] - 840s 10s/step - loss: 0.2556 - accuracy: 0.9296 - val_loss: 1.1159 - val_accuracy: 0.7009\n",
      "Epoch 12/20\n",
      "86/86 [==============================] - 284s 3s/step - loss: 0.2332 - accuracy: 0.9293 - val_loss: 0.8716 - val_accuracy: 0.7507\n",
      "Epoch 13/20\n",
      "86/86 [==============================] - 229s 3s/step - loss: 0.1524 - accuracy: 0.9630 - val_loss: 0.8731 - val_accuracy: 0.7478\n",
      "Epoch 14/20\n",
      "86/86 [==============================] - 270s 3s/step - loss: 0.1216 - accuracy: 0.9674 - val_loss: 0.9259 - val_accuracy: 0.7463\n",
      "Epoch 15/20\n",
      "86/86 [==============================] - 320s 4s/step - loss: 0.0989 - accuracy: 0.9718 - val_loss: 0.9715 - val_accuracy: 0.7361\n",
      "Epoch 16/20\n",
      "86/86 [==============================] - 251s 3s/step - loss: 0.1171 - accuracy: 0.9666 - val_loss: 1.1250 - val_accuracy: 0.6979\n",
      "Epoch 17/20\n",
      "86/86 [==============================] - 241s 3s/step - loss: 0.1394 - accuracy: 0.9549 - val_loss: 0.9776 - val_accuracy: 0.7405\n",
      "Epoch 18/20\n",
      "86/86 [==============================] - 250s 3s/step - loss: 0.1347 - accuracy: 0.9586 - val_loss: 1.0010 - val_accuracy: 0.7243\n",
      "Epoch 19/20\n",
      "86/86 [==============================] - 248s 3s/step - loss: 0.1160 - accuracy: 0.9655 - val_loss: 1.0469 - val_accuracy: 0.7229\n",
      "Epoch 20/20\n",
      "86/86 [==============================] - 262s 3s/step - loss: 0.1130 - accuracy: 0.9655 - val_loss: 0.9510 - val_accuracy: 0.7595\n"
     ]
    },
    {
     "data": {
      "text/plain": [
       "<keras.src.callbacks.History at 0x7fe31fd2b9d0>"
      ]
     },
     "execution_count": 24,
     "metadata": {},
     "output_type": "execute_result"
    }
   ],
   "source": [
    "model = Sequential()\n",
    "model.add(Conv2D(512,(5,5),activation='relu',input_shape=(64,64,1)))\n",
    "model.add(MaxPool2D(2,2))\n",
    "model.add(Conv2D(256,(3,3),activation='relu',input_shape=(64,64,1)))\n",
    "model.add(MaxPool2D(2,2))\n",
    "model.add(Conv2D(256,(3,3),activation='relu'))\n",
    "model.add(MaxPool2D(2,2))\n",
    "model.add(Flatten())\n",
    "model.add(Dense(512,activation='relu'))\n",
    "model.add(Dense(1024,activation='relu'))\n",
    "model.add(Dense(512,activation='relu'))\n",
    "model.add(Dense(256,activation='sigmoid'))\n",
    "model.add(Dense(62,activation='softmax'))\n",
    "model.compile(loss='sparse_categorical_crossentropy',optimizer='adam',metrics=['accuracy'])\n",
    "model.fit(train_images,train_labels,epochs=20,validation_data = (test_images,test_labels))"
   ]
  },
  {
   "cell_type": "code",
   "execution_count": 25,
   "metadata": {},
   "outputs": [
    {
     "name": "stdout",
     "output_type": "stream",
     "text": [
      "Model: \"sequential\"\n",
      "_________________________________________________________________\n",
      " Layer (type)                Output Shape              Param #   \n",
      "=================================================================\n",
      " conv2d (Conv2D)             (None, 60, 60, 512)       13312     \n",
      "                                                                 \n",
      " max_pooling2d (MaxPooling2  (None, 30, 30, 512)       0         \n",
      " D)                                                              \n",
      "                                                                 \n",
      " conv2d_1 (Conv2D)           (None, 28, 28, 256)       1179904   \n",
      "                                                                 \n",
      " max_pooling2d_1 (MaxPoolin  (None, 14, 14, 256)       0         \n",
      " g2D)                                                            \n",
      "                                                                 \n",
      " conv2d_2 (Conv2D)           (None, 12, 12, 256)       590080    \n",
      "                                                                 \n",
      " max_pooling2d_2 (MaxPoolin  (None, 6, 6, 256)         0         \n",
      " g2D)                                                            \n",
      "                                                                 \n",
      " flatten (Flatten)           (None, 9216)              0         \n",
      "                                                                 \n",
      " dense (Dense)               (None, 512)               4719104   \n",
      "                                                                 \n",
      " dense_1 (Dense)             (None, 1024)              525312    \n",
      "                                                                 \n",
      " dense_2 (Dense)             (None, 512)               524800    \n",
      "                                                                 \n",
      " dense_3 (Dense)             (None, 256)               131328    \n",
      "                                                                 \n",
      " dense_4 (Dense)             (None, 62)                15934     \n",
      "                                                                 \n",
      "=================================================================\n",
      "Total params: 7699774 (29.37 MB)\n",
      "Trainable params: 7699774 (29.37 MB)\n",
      "Non-trainable params: 0 (0.00 Byte)\n",
      "_________________________________________________________________\n"
     ]
    }
   ],
   "source": [
    "model.summary()"
   ]
  },
  {
   "cell_type": "code",
   "execution_count": 27,
   "metadata": {},
   "outputs": [
    {
     "name": "stdout",
     "output_type": "stream",
     "text": [
      "22/22 [==============================] - 12s 491ms/step\n"
     ]
    }
   ],
   "source": [
    "predicted_labels = le.inverse_transform(model.predict(test_images).argmax(axis=1))\n",
    "actual_labels = le.inverse_transform(test_labels)"
   ]
  },
  {
   "cell_type": "code",
   "execution_count": 29,
   "metadata": {},
   "outputs": [
    {
     "name": "stdout",
     "output_type": "stream",
     "text": [
      "predicted label is ; W\n",
      "Actual Label is : W\n"
     ]
    }
   ],
   "source": [
    "print('predicted label is ;',predicted_labels[6])\n",
    "print('Actual Label is :',actual_labels[6])"
   ]
  },
  {
   "cell_type": "code",
   "execution_count": 33,
   "metadata": {},
   "outputs": [
    {
     "name": "stdout",
     "output_type": "stream",
     "text": [
      "printed label : n\n",
      "actual label : n\n"
     ]
    },
    {
     "data": {
      "image/png": "[encoded data removed]",
      "text/plain": [
       "<Figure size 640x480 with 1 Axes>"
      ]
     },
     "metadata": {},
     "output_type": "display_data"
    }
   ],
   "source": [
    "# number of image to be predicted\n",
    "# change the value of I\n",
    "i = 45\n",
    "\n",
    "plt.imshow(test_images[i],cmap='gray')\n",
    "print('printed label :',predicted_labels[i])\n",
    "print('actual label :', actual_labels[i])"
   ]
  },
  {
   "cell_type": "code",
   "execution_count": 34,
   "metadata": {},
   "outputs": [
    {
     "name": "stdout",
     "output_type": "stream",
     "text": [
      "22/22 [==============================] - 10s 462ms/step\n",
      "Accuracy: 0.7595307917888563\n",
      "Precision: 0.7794220035422381\n",
      "Recall: 0.7595307917888563\n",
      "F1 Score: 0.7592200132599969\n",
      "Confusion Matrix:\n",
      "[[ 6  0  0 ...  0  0  0]\n",
      " [ 0  4  0 ...  0  0  0]\n",
      " [ 0  0  9 ...  0  0  0]\n",
      " ...\n",
      " [ 0  0  1 ... 11  0  0]\n",
      " [ 0  0  0 ...  0  6  0]\n",
      " [ 0  0  0 ...  0  0  8]]\n"
     ]
    }
   ],
   "source": [
    "from sklearn.metrics import accuracy_score, precision_score, recall_score, f1_score, confusion_matrix\n",
    "\n",
    "y_pred = model.predict(test_images)\n",
    "y_pred_labels = np.argmax(y_pred, axis=1)\n",
    "\n",
    "# Calculate evaluation metrics\n",
    "accuracy = accuracy_score(test_labels, y_pred_labels)\n",
    "precision = precision_score(test_labels, y_pred_labels, average='weighted')\n",
    "recall = recall_score(test_labels, y_pred_labels, average='weighted')\n",
    "f1 = f1_score(test_labels, y_pred_labels, average='weighted')\n",
    "confusion_mat = confusion_matrix(test_labels, y_pred_labels)\n",
    "\n",
    "# Print or use the evaluation metrics as needed\n",
    "print(\"Accuracy:\", accuracy)\n",
    "print(\"Precision:\", precision)\n",
    "print(\"Recall:\", recall)\n",
    "print(\"F1 Score:\", f1)\n",
    "print(\"Confusion Matrix:\")\n",
    "print(confusion_mat)"
   ]
  },
  {
   "cell_type": "code",
   "execution_count": 36,
   "metadata": {},
   "outputs": [],
   "source": [
    "# export the model\n",
    "# model.save('model.h5')\n",
    "model.save('LetterRecognition.keras')"
   ]
  }
 ],
 "metadata": {
  "kernelspec": {
   "display_name": "Python 3",
   "language": "python",
   "name": "python3"
  },
  "language_info": {
   "codemirror_mode": {
    "name": "ipython",
    "version": 3
   },
   "file_extension": ".py",
   "mimetype": "text/x-python",
   "name": "python",
   "nbconvert_exporter": "python",
   "pygments_lexer": "ipython3",
   "version": "3.11.4"
  },
  "orig_nbformat": 4
 },
 "nbformat": 4,
 "nbformat_minor": 2
}
